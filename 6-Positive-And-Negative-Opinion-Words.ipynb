{
 "cells": [
  {
   "cell_type": "markdown",
   "metadata": {},
   "source": [
    "Exercise 6\n",
    "\n",
    "Compute the number of positive and negative opinion words you obtained in\n",
    "Exercise 4. You need to use the provided list of standard opinion words in English."
   ]
  },
  {
   "cell_type": "code",
   "execution_count": 1,
   "metadata": {
    "collapsed": true
   },
   "outputs": [],
   "source": [
    "import re"
   ]
  },
  {
   "cell_type": "code",
   "execution_count": 2,
   "metadata": {
    "collapsed": true
   },
   "outputs": [],
   "source": [
    "def ReadLexicon(inpFile):\n",
    "    with open('OpinionLexicon\\\\'+inpFile,'r') as pos:\n",
    "        return [word.strip() for word in pos]"
   ]
  },
  {
   "cell_type": "code",
   "execution_count": 3,
   "metadata": {
    "collapsed": true
   },
   "outputs": [],
   "source": [
    "pos=ReadLexicon('positive-words.txt')"
   ]
  },
  {
   "cell_type": "code",
   "execution_count": 4,
   "metadata": {
    "collapsed": true
   },
   "outputs": [],
   "source": [
    "neg=ReadLexicon('negative-words.txt')"
   ]
  },
  {
   "cell_type": "code",
   "execution_count": 5,
   "metadata": {},
   "outputs": [
    {
     "data": {
      "text/plain": [
       "(2006, 4783)"
      ]
     },
     "execution_count": 5,
     "metadata": {},
     "output_type": "execute_result"
    }
   ],
   "source": [
    "len(pos),len(neg)"
   ]
  },
  {
   "cell_type": "code",
   "execution_count": 6,
   "metadata": {
    "collapsed": true
   },
   "outputs": [],
   "source": [
    "def ComputeOpinions(inpFile):\n",
    "    wordsInFile=[]\n",
    "    with open('Output\\\\'+inpFile,'r') as f:\n",
    "        for line in f.readlines():\n",
    "            wordsInFile.append(re.findall(r\"['\\\"](.*?)['\\\"]\", line)[0])\n",
    "        pos=ReadLexicon('positive-words.txt')\n",
    "        pos_opinion_words=list(set(wordsInFile).intersection(pos))\n",
    "        neg=ReadLexicon('negative-words.txt')\n",
    "        neg_opinion_words=list(set(wordsInFile).intersection(neg))\n",
    "        #write positive words and negative words in the dataset to separate files 6_pos_words.txt and 6_neg_words.txt\n",
    "        with open('Output\\\\6_pos_words.txt','w') as posOut:\n",
    "            for pWord in pos_opinion_words:\n",
    "                posOut.write(\"%s\\n\" % pWord)\n",
    "        with open('Output\\\\6_neg_words.txt','w') as negOut:\n",
    "            for nWord in neg_opinion_words:\n",
    "                negOut.write(\"%s\\n\" % nWord)\n",
    "    return 'positive words count:'+str(len(pos_opinion_words))+', negative words count:'+str(len(neg_opinion_words))"
   ]
  },
  {
   "cell_type": "markdown",
   "metadata": {},
   "source": [
    "Positvie and negative words count for 0.5% min sup"
   ]
  },
  {
   "cell_type": "code",
   "execution_count": 7,
   "metadata": {},
   "outputs": [
    {
     "data": {
      "text/plain": [
       "'positive words count:110, negative words count:44'"
      ]
     },
     "execution_count": 7,
     "metadata": {},
     "output_type": "execute_result"
    }
   ],
   "source": [
    "ComputeOpinions('4_All_Frequent_Opinions_3_All_Frequent_Aspects3_ARM_FP_GROWTH_0_5_percent_support.txt')"
   ]
  },
  {
   "cell_type": "markdown",
   "metadata": {},
   "source": [
    "Positvie and negative words count for 1% min sup"
   ]
  },
  {
   "cell_type": "code",
   "execution_count": 8,
   "metadata": {},
   "outputs": [
    {
     "data": {
      "text/plain": [
       "'positive words count:109, negative words count:42'"
      ]
     },
     "execution_count": 8,
     "metadata": {},
     "output_type": "execute_result"
    }
   ],
   "source": [
    "ComputeOpinions('4_All_Frequent_Opinions_3_All_Frequent_Aspects3_ARM_FP_GROWTH_1_percent_support.txt')"
   ]
  },
  {
   "cell_type": "code",
   "execution_count": null,
   "metadata": {
    "collapsed": true
   },
   "outputs": [],
   "source": []
  }
 ],
 "metadata": {
  "kernelspec": {
   "display_name": "Python 3",
   "language": "python",
   "name": "python3"
  },
  "language_info": {
   "codemirror_mode": {
    "name": "ipython",
    "version": 3
   },
   "file_extension": ".py",
   "mimetype": "text/x-python",
   "name": "python",
   "nbconvert_exporter": "python",
   "pygments_lexer": "ipython3",
   "version": "3.6.1"
  }
 },
 "nbformat": 4,
 "nbformat_minor": 2
}

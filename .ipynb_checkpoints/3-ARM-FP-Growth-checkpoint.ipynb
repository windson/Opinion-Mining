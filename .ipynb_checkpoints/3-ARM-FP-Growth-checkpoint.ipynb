{
 "cells": [
  {
   "cell_type": "markdown",
   "metadata": {},
   "source": [
    "Exercise 3 [10 points] \n",
    "Select all the frequent aspects using Association Rule Mining algorithm with minimum 0.5% and 1% support. (Submit the top-10 most frequent aspects in decreasing order of support.). What difference do you see in using 0.5% vs 1% minimum support? \n",
    "\n",
    "Note: You need to consider each sentence as a transaction and not the whole review. Same feature might be mentioned multiple number of times in a single review. As a result, the count of frequent features may be more than the total number of reviews. \n",
    "\n",
    "If two or more nouns are occurring consecutively, then you should treat it as follows: for a bigram “battery life”, pass three nouns to the association rule mining algorithm: “battery”, “life” and “battery life”. With this approach if “battery life” is a frequently occurring phrase then that will remain after association rule mining whereas less frequently occurring phrases such as “battery duration” will only contribute to the feature “battery”"
   ]
  },
  {
   "cell_type": "code",
   "execution_count": 22,
   "metadata": {
    "collapsed": true
   },
   "outputs": [],
   "source": [
    "from nltk import WordNetLemmatizer\n",
    "from nltk import sent_tokenize\n",
    "from nltk import ngrams\n",
    "from fp_growth import find_frequent_itemsets\n",
    "import subprocess\n",
    "from collections import Counter\n",
    "import re\n",
    "from itertools import chain, combinations\n",
    "import collections"
   ]
  },
  {
   "cell_type": "code",
   "execution_count": 2,
   "metadata": {},
   "outputs": [
    {
     "data": {
      "text/plain": [
       "597"
      ]
     },
     "execution_count": 2,
     "metadata": {},
     "output_type": "execute_result"
    }
   ],
   "source": [
    "file_content=''\n",
    "with open('data\\\\CanonG3_untagged.txt','r') as unTag:\n",
    "    file_content = unTag.read()\n",
    "    sentences = sent_tokenize(file_content)\n",
    "    #for tkn in tokens:\n",
    "    #    print(tkn)\n",
    "len(sentences)"
   ]
  },
  {
   "cell_type": "code",
   "execution_count": 3,
   "metadata": {
    "collapsed": true
   },
   "outputs": [],
   "source": [
    "tag_nouns=[]\n",
    "with open('Output\\\\aspects.csv','r') as aspects:\n",
    "    for asp in aspects.readlines():\n",
    "        tag_nouns.append(asp.rstrip('\\n').split(','))"
   ]
  },
  {
   "cell_type": "code",
   "execution_count": 4,
   "metadata": {},
   "outputs": [
    {
     "data": {
      "text/plain": [
       "(['picture', 'quality', 'color', 'canon', 'powershot', 'g3', 'purchase'], 562)"
      ]
     },
     "execution_count": 4,
     "metadata": {},
     "output_type": "execute_result"
    }
   ],
   "source": [
    "tag_nouns[0],len(tag_nouns)"
   ]
  },
  {
   "cell_type": "code",
   "execution_count": 5,
   "metadata": {},
   "outputs": [
    {
     "data": {
      "text/plain": [
       "35"
      ]
     },
     "execution_count": 5,
     "metadata": {},
     "output_type": "execute_result"
    }
   ],
   "source": [
    "#sentences that do not contain any noun tags at all are as follows\n",
    "len(sentences)-len(tag_nouns)"
   ]
  },
  {
   "cell_type": "code",
   "execution_count": 6,
   "metadata": {
    "collapsed": true
   },
   "outputs": [],
   "source": [
    "def BiAndTriGramGeneForTransactionAspects(trans_Nouns):\n",
    "    transaction_comb_nouns=[]\n",
    "    allCombinations = chain(*map(lambda x: combinations(trans_Nouns, x), range(1, len(trans_Nouns)+1)))\n",
    "    for subset in allCombinations:\n",
    "        if(len(subset)<4):\n",
    "            wordComb=' '.join(subset)\n",
    "            #add to valid transaction combinations only if it is present in CanonG3_untagged.txt\n",
    "            if wordComb in file_content:\n",
    "                transaction_comb_nouns.append(' '.join(subset))\n",
    "    return transaction_comb_nouns"
   ]
  },
  {
   "cell_type": "code",
   "execution_count": 7,
   "metadata": {},
   "outputs": [
    {
     "data": {
      "text/plain": [
       "['picture',\n",
       " 'quality',\n",
       " 'color',\n",
       " 'canon',\n",
       " 'powershot',\n",
       " 'g3',\n",
       " 'purchase',\n",
       " 'purchase',\n",
       " 'picture quality',\n",
       " 'canon powershot',\n",
       " 'canon g3',\n",
       " 'powershot g3',\n",
       " 'canon powershot g3']"
      ]
     },
     "execution_count": 7,
     "metadata": {},
     "output_type": "execute_result"
    }
   ],
   "source": [
    "#Example to generate combinations\n",
    "BiAndTriGramGeneForTransactionAspects(['picture', 'quality', 'color', 'canon', 'powershot', 'g3', 'purchase','purchase'])\n"
   ]
  },
  {
   "cell_type": "code",
   "execution_count": 8,
   "metadata": {
    "collapsed": true
   },
   "outputs": [],
   "source": [
    "ptr=0\n",
    "while ptr< len(tag_nouns):\n",
    "    tag_nouns[ptr] = BiAndTriGramGeneForTransactionAspects(tag_nouns[ptr])\n",
    "    ptr+=1"
   ]
  },
  {
   "cell_type": "code",
   "execution_count": 9,
   "metadata": {},
   "outputs": [
    {
     "data": {
      "text/plain": [
       "['picture',\n",
       " 'quality',\n",
       " 'color',\n",
       " 'canon',\n",
       " 'powershot',\n",
       " 'g3',\n",
       " 'purchase',\n",
       " 'picture quality',\n",
       " 'canon powershot',\n",
       " 'canon g3',\n",
       " 'powershot g3',\n",
       " 'canon powershot g3']"
      ]
     },
     "execution_count": 9,
     "metadata": {},
     "output_type": "execute_result"
    }
   ],
   "source": [
    "tag_nouns[0]"
   ]
  },
  {
   "cell_type": "code",
   "execution_count": 10,
   "metadata": {
    "collapsed": true
   },
   "outputs": [],
   "source": [
    "aspects_with_N_Grams='3_aspects_with_N_Grams.csv'"
   ]
  },
  {
   "cell_type": "code",
   "execution_count": 12,
   "metadata": {},
   "outputs": [],
   "source": [
    "with open('Output\\\\'+aspects_with_N_Grams,'w') as aspNG:\n",
    "    for trans_nouns in tag_nouns:\n",
    "        aspNG.write(','.join(trans_nouns)+'\\n')"
   ]
  },
  {
   "cell_type": "code",
   "execution_count": 14,
   "metadata": {
    "collapsed": true
   },
   "outputs": [],
   "source": [
    "#python -m fp_growth -s 3 examples/aspects.csv\n",
    "with open(\"Output\\\\3_ARM_FP_GROWTH_0_5_percent_support.txt\", \"w\") as fpOut:\n",
    "    subprocess.call([\"python\",\"-m\", \"fp_growth\", \"-s\", \"3\", \"Output\\\\3_aspects_with_N_Grams.csv\"], stdout=fpOut)"
   ]
  },
  {
   "cell_type": "code",
   "execution_count": 15,
   "metadata": {
    "collapsed": true
   },
   "outputs": [],
   "source": [
    "with open(\"Output\\\\3_ARM_FP_GROWTH_1_percent_support.txt\", \"w\") as fpOut:\n",
    "    subprocess.call([\"python\",\"-m\", \"fp_growth\", \"-s\", \"6\", \"Output\\\\3_aspects_with_N_Grams.csv\"], stdout=fpOut)"
   ]
  },
  {
   "cell_type": "markdown",
   "metadata": {},
   "source": [
    "Now Calculate Top 10 Freq Aspects"
   ]
  },
  {
   "cell_type": "code",
   "execution_count": 16,
   "metadata": {
    "collapsed": true
   },
   "outputs": [],
   "source": [
    "def GenerateTopNFrequentAspects(fpInpFile,N):\n",
    "    with open('Output\\\\'+fpInpFile,'r') as inpfile:\n",
    "        freq_Words = []\n",
    "        c = collections.Counter()\n",
    "        for line in inpfile.readlines():\n",
    "            freq_Words.append(re.findall(r\"['\\\"](.*?)['\\\"]\", line))\n",
    "            fp_sup= line.strip('[').strip('\\n').split('] ')\n",
    "            if(len(fp_sup)==2):\n",
    "                c[str(fp_sup[0])]=str(fp_sup[1])\n",
    "    #print top 10 requent aspects in decreasing order of support\n",
    "    top_10_freq_asp_dec_order_sup='Output\\\\3_Top_10_freq_asp_dec_order_sup.txt'\n",
    "    with open()\n",
    "\n",
    "    aspects=[]\n",
    "    for transaction in freq_Words:\n",
    "        for aspect in transaction:\n",
    "            aspects.append(aspect)\n",
    "    counts = Counter(aspects)\n",
    "    #print all frequent aspects\n",
    "    allFreqAspects='Output\\\\3_All_Frequent_Aspects'+fpInpFile\n",
    "    with open(allFreqAspects,'w') as allFreqAsp:\n",
    "        allFreqAsp.write(str(counts).replace('Counter({','').replace(',','\\n').replace('})','').replace(\" '\",\"'\"))\n",
    "        \n",
    "    #now print top N frequent aspects\n",
    "    outputfileName='Output\\\\3_Top_10_Frequent_Aspects'+fpInpFile\n",
    "    with open(outputfileName,'w') as freqAsp:\n",
    "        freqAsp.write(str(counts.most_common(N)).replace('(','').replace('),','\\n').replace('[','').replace(')]','').replace(\" '\",\"'\"))\n",
    "    return counts.most_common(N), 'Output Generated in file: '+outputfileName\n",
    "    "
   ]
  },
  {
   "cell_type": "code",
   "execution_count": 17,
   "metadata": {},
   "outputs": [
    {
     "data": {
      "text/plain": [
       "([('megapixel camera', 262144),\n",
       "  ('canon', 150633),\n",
       "  ('picture', 148982),\n",
       "  ('way', 143112),\n",
       "  ('canon camera', 141636),\n",
       "  ('camera', 140123),\n",
       "  ('g3', 139119),\n",
       "  ('canon g3', 138888),\n",
       "  ('g3 camera', 138868),\n",
       "  ('battery', 138675)],\n",
       " 'Output Generated in file: Output\\\\3_Top_10_Frequent_Aspects3_ARM_FP_GROWTH_0_5_percent_support.txt')"
      ]
     },
     "execution_count": 17,
     "metadata": {},
     "output_type": "execute_result"
    }
   ],
   "source": [
    "#Generate TOP 10 Freq Aspects for 0.5% Min Support\n",
    "GenerateTopNFrequentAspects('3_ARM_FP_GROWTH_0_5_percent_support.txt',10)"
   ]
  },
  {
   "cell_type": "code",
   "execution_count": 18,
   "metadata": {},
   "outputs": [
    {
     "data": {
      "text/plain": [
       "([('megapixel camera', 34442),\n",
       "  ('canon g3 camera', 33352),\n",
       "  ('canon camera', 19056),\n",
       "  ('g3 camera', 18368),\n",
       "  ('canon', 18267),\n",
       "  ('camera', 18262),\n",
       "  ('g3', 18262),\n",
       "  ('canon g3', 18256),\n",
       "  ('battery', 18217),\n",
       "  ('picture', 18001)],\n",
       " 'Output Generated in file: Output\\\\3_Top_10_Frequent_Aspects3_ARM_FP_GROWTH_1_percent_support.txt')"
      ]
     },
     "execution_count": 18,
     "metadata": {},
     "output_type": "execute_result"
    }
   ],
   "source": [
    "#Generate TOP 10 Freq Aspects for 1% Min Support\n",
    "GenerateTopNFrequentAspects('3_ARM_FP_GROWTH_1_percent_support.txt',10)"
   ]
  },
  {
   "cell_type": "code",
   "execution_count": 45,
   "metadata": {},
   "outputs": [],
   "source": [
    "#Practice\n",
    "with open('Output\\\\3_ARM_FP_GROWTH_1_percent_support.txt','r') as inpfile:\n",
    "        c = collections.Counter()\n",
    "        for line in inpfile.readlines():\n",
    "            fp_sup= line.strip('[').strip('\\n').split('] ')\n",
    "            if(len(fp_sup)==2):\n",
    "                c[str(fp_sup[0])]=str(fp_sup[1])"
   ]
  },
  {
   "cell_type": "code",
   "execution_count": 49,
   "metadata": {},
   "outputs": [
    {
     "data": {
      "text/plain": [
       "[(\"'camera', 'g3', 'battery', 'g3 camera', 'canon camera'\", '97'),\n",
       " (\"'camera', 'canon', 'battery', 'canon g3', 'g3 camera', 'canon camera', 'life', 'battery life'\",\n",
       "  '96'),\n",
       " (\"'camera', 'canon', 'battery', 'canon g3', 'g3 camera', 'g2', 'megapixel', 'battery life', 'canon g3 camera', 'megapixel camera'\",\n",
       "  '96'),\n",
       " (\"'camera', 'canon', 'battery', 'canon g3', 'g3 camera', 'g2', 'megapixel', 'battery life', 'way', 'canon g3 camera', 'megapixel camera'\",\n",
       "  '96'),\n",
       " (\"'camera', 'canon', 'battery', 'canon g3', 'g3 camera', 'g2', 'megapixel', 'canon g3 camera', 'megapixel camera'\",\n",
       "  '96'),\n",
       " (\"'camera', 'canon', 'battery', 'canon g3', 'g3 camera', 'g2', 'megapixel', 'life', 'battery life', 'canon g3 camera', 'megapixel camera'\",\n",
       "  '96'),\n",
       " (\"'camera', 'canon', 'battery', 'canon g3', 'g3 camera', 'g2', 'megapixel', 'life', 'battery life', 'way', 'canon g3 camera', 'megapixel camera'\",\n",
       "  '96'),\n",
       " (\"'camera', 'canon', 'battery', 'canon g3', 'g3 camera', 'g2', 'megapixel', 'life', 'canon g3 camera', 'megapixel camera'\",\n",
       "  '96'),\n",
       " (\"'camera', 'canon', 'battery', 'canon g3', 'g3 camera', 'g2', 'megapixel', 'life', 'picture quality', 'battery life', 'canon g3 camera', 'megapixel camera'\",\n",
       "  '96'),\n",
       " (\"'camera', 'canon', 'battery', 'canon g3', 'g3 camera', 'g2', 'megapixel', 'life', 'picture quality', 'battery life', 'way', 'canon g3 camera', 'megapixel camera'\",\n",
       "  '96'),\n",
       " (\"'camera', 'canon', 'battery', 'canon g3', 'g3 camera', 'g2', 'megapixel', 'life', 'picture quality', 'canon g3 camera', 'megapixel camera'\",\n",
       "  '96'),\n",
       " (\"'camera', 'canon', 'battery', 'canon g3', 'g3 camera', 'g2', 'megapixel', 'life', 'picture quality', 'way', 'canon g3 camera', 'megapixel camera'\",\n",
       "  '96'),\n",
       " (\"'camera', 'canon', 'battery', 'canon g3', 'g3 camera', 'g2', 'megapixel', 'life', 'way', 'canon g3 camera', 'megapixel camera'\",\n",
       "  '96'),\n",
       " (\"'camera', 'canon', 'battery', 'canon g3', 'g3 camera', 'g2', 'megapixel', 'picture quality', 'battery life', 'canon g3 camera', 'megapixel camera'\",\n",
       "  '96'),\n",
       " (\"'camera', 'canon', 'battery', 'canon g3', 'g3 camera', 'g2', 'megapixel', 'picture quality', 'battery life', 'way', 'canon g3 camera', 'megapixel camera'\",\n",
       "  '96'),\n",
       " (\"'camera', 'canon', 'battery', 'canon g3', 'g3 camera', 'g2', 'megapixel', 'picture quality', 'canon g3 camera', 'megapixel camera'\",\n",
       "  '96'),\n",
       " (\"'camera', 'canon', 'battery', 'canon g3', 'g3 camera', 'g2', 'megapixel', 'picture quality', 'way', 'canon g3 camera', 'megapixel camera'\",\n",
       "  '96'),\n",
       " (\"'camera', 'canon', 'battery', 'canon g3', 'g3 camera', 'g2', 'megapixel', 'way', 'canon g3 camera', 'megapixel camera'\",\n",
       "  '96'),\n",
       " (\"'camera', 'canon', 'battery', 'canon g3', 'g3 camera', 'megapixel', 'battery life', 'canon g3 camera', 'megapixel camera'\",\n",
       "  '96'),\n",
       " (\"'camera', 'canon', 'battery', 'canon g3', 'g3 camera', 'megapixel', 'battery life', 'way', 'canon g3 camera', 'megapixel camera'\",\n",
       "  '96'),\n",
       " (\"'camera', 'canon', 'battery', 'canon g3', 'g3 camera', 'megapixel', 'canon g3 camera', 'megapixel camera'\",\n",
       "  '96'),\n",
       " (\"'camera', 'canon', 'battery', 'canon g3', 'g3 camera', 'megapixel', 'life', 'battery life', 'canon g3 camera', 'megapixel camera'\",\n",
       "  '96'),\n",
       " (\"'camera', 'canon', 'battery', 'canon g3', 'g3 camera', 'megapixel', 'life', 'battery life', 'way', 'canon g3 camera', 'megapixel camera'\",\n",
       "  '96'),\n",
       " (\"'camera', 'canon', 'battery', 'canon g3', 'g3 camera', 'megapixel', 'life', 'canon g3 camera', 'megapixel camera'\",\n",
       "  '96'),\n",
       " (\"'camera', 'canon', 'battery', 'canon g3', 'g3 camera', 'megapixel', 'life', 'picture quality', 'battery life', 'canon g3 camera', 'megapixel camera'\",\n",
       "  '96'),\n",
       " (\"'camera', 'canon', 'battery', 'canon g3', 'g3 camera', 'megapixel', 'life', 'picture quality', 'battery life', 'way', 'canon g3 camera', 'megapixel camera'\",\n",
       "  '96'),\n",
       " (\"'camera', 'canon', 'battery', 'canon g3', 'g3 camera', 'megapixel', 'life', 'picture quality', 'canon g3 camera', 'megapixel camera'\",\n",
       "  '96'),\n",
       " (\"'camera', 'canon', 'battery', 'canon g3', 'g3 camera', 'megapixel', 'life', 'picture quality', 'way', 'canon g3 camera', 'megapixel camera'\",\n",
       "  '96'),\n",
       " (\"'camera', 'canon', 'battery', 'canon g3', 'g3 camera', 'megapixel', 'life', 'way', 'canon g3 camera', 'megapixel camera'\",\n",
       "  '96'),\n",
       " (\"'camera', 'canon', 'battery', 'canon g3', 'g3 camera', 'megapixel', 'picture quality', 'battery life', 'canon g3 camera', 'megapixel camera'\",\n",
       "  '96'),\n",
       " (\"'camera', 'canon', 'battery', 'canon g3', 'g3 camera', 'megapixel', 'picture quality', 'battery life', 'way', 'canon g3 camera', 'megapixel camera'\",\n",
       "  '96'),\n",
       " (\"'camera', 'canon', 'battery', 'canon g3', 'g3 camera', 'megapixel', 'picture quality', 'canon g3 camera', 'megapixel camera'\",\n",
       "  '96'),\n",
       " (\"'camera', 'canon', 'battery', 'canon g3', 'g3 camera', 'megapixel', 'picture quality', 'way', 'canon g3 camera', 'megapixel camera'\",\n",
       "  '96'),\n",
       " (\"'camera', 'canon', 'battery', 'canon g3', 'g3 camera', 'megapixel', 'way', 'canon g3 camera', 'megapixel camera'\",\n",
       "  '96'),\n",
       " (\"'camera', 'canon', 'battery', 'g3 camera', 'g2', 'megapixel', 'battery life', 'canon g3 camera', 'megapixel camera'\",\n",
       "  '96'),\n",
       " (\"'camera', 'canon', 'battery', 'g3 camera', 'g2', 'megapixel', 'battery life', 'way', 'canon g3 camera', 'megapixel camera'\",\n",
       "  '96'),\n",
       " (\"'camera', 'canon', 'battery', 'g3 camera', 'g2', 'megapixel', 'canon g3 camera', 'megapixel camera'\",\n",
       "  '96'),\n",
       " (\"'camera', 'canon', 'battery', 'g3 camera', 'g2', 'megapixel', 'life', 'battery life', 'canon g3 camera', 'megapixel camera'\",\n",
       "  '96'),\n",
       " (\"'camera', 'canon', 'battery', 'g3 camera', 'g2', 'megapixel', 'life', 'battery life', 'way', 'canon g3 camera', 'megapixel camera'\",\n",
       "  '96'),\n",
       " (\"'camera', 'canon', 'battery', 'g3 camera', 'g2', 'megapixel', 'life', 'canon g3 camera', 'megapixel camera'\",\n",
       "  '96'),\n",
       " (\"'camera', 'canon', 'battery', 'g3 camera', 'g2', 'megapixel', 'life', 'picture quality', 'battery life', 'canon g3 camera', 'megapixel camera'\",\n",
       "  '96'),\n",
       " (\"'camera', 'canon', 'battery', 'g3 camera', 'g2', 'megapixel', 'life', 'picture quality', 'battery life', 'way', 'canon g3 camera', 'megapixel camera'\",\n",
       "  '96'),\n",
       " (\"'camera', 'canon', 'battery', 'g3 camera', 'g2', 'megapixel', 'life', 'picture quality', 'canon g3 camera', 'megapixel camera'\",\n",
       "  '96'),\n",
       " (\"'camera', 'canon', 'battery', 'g3 camera', 'g2', 'megapixel', 'life', 'picture quality', 'way', 'canon g3 camera', 'megapixel camera'\",\n",
       "  '96'),\n",
       " (\"'camera', 'canon', 'battery', 'g3 camera', 'g2', 'megapixel', 'life', 'way', 'canon g3 camera', 'megapixel camera'\",\n",
       "  '96'),\n",
       " (\"'camera', 'canon', 'battery', 'g3 camera', 'g2', 'megapixel', 'picture quality', 'battery life', 'canon g3 camera', 'megapixel camera'\",\n",
       "  '96'),\n",
       " (\"'camera', 'canon', 'battery', 'g3 camera', 'g2', 'megapixel', 'picture quality', 'battery life', 'way', 'canon g3 camera', 'megapixel camera'\",\n",
       "  '96'),\n",
       " (\"'camera', 'canon', 'battery', 'g3 camera', 'g2', 'megapixel', 'picture quality', 'canon g3 camera', 'megapixel camera'\",\n",
       "  '96'),\n",
       " (\"'camera', 'canon', 'battery', 'g3 camera', 'g2', 'megapixel', 'picture quality', 'way', 'canon g3 camera', 'megapixel camera'\",\n",
       "  '96'),\n",
       " (\"'camera', 'canon', 'battery', 'g3 camera', 'g2', 'megapixel', 'way', 'canon g3 camera', 'megapixel camera'\",\n",
       "  '96'),\n",
       " (\"'camera', 'canon', 'battery', 'g3 camera', 'megapixel', 'battery life', 'canon g3 camera', 'megapixel camera'\",\n",
       "  '96'),\n",
       " (\"'camera', 'canon', 'battery', 'g3 camera', 'megapixel', 'battery life', 'way', 'canon g3 camera', 'megapixel camera'\",\n",
       "  '96'),\n",
       " (\"'camera', 'canon', 'battery', 'g3 camera', 'megapixel', 'canon g3 camera', 'megapixel camera'\",\n",
       "  '96'),\n",
       " (\"'camera', 'canon', 'battery', 'g3 camera', 'megapixel', 'life', 'battery life', 'canon g3 camera', 'megapixel camera'\",\n",
       "  '96'),\n",
       " (\"'camera', 'canon', 'battery', 'g3 camera', 'megapixel', 'life', 'battery life', 'way', 'canon g3 camera', 'megapixel camera'\",\n",
       "  '96'),\n",
       " (\"'camera', 'canon', 'battery', 'g3 camera', 'megapixel', 'life', 'canon g3 camera', 'megapixel camera'\",\n",
       "  '96'),\n",
       " (\"'camera', 'canon', 'battery', 'g3 camera', 'megapixel', 'life', 'picture quality', 'battery life', 'canon g3 camera', 'megapixel camera'\",\n",
       "  '96'),\n",
       " (\"'camera', 'canon', 'battery', 'g3 camera', 'megapixel', 'life', 'picture quality', 'battery life', 'way', 'canon g3 camera', 'megapixel camera'\",\n",
       "  '96'),\n",
       " (\"'camera', 'canon', 'battery', 'g3 camera', 'megapixel', 'life', 'picture quality', 'canon g3 camera', 'megapixel camera'\",\n",
       "  '96'),\n",
       " (\"'camera', 'canon', 'battery', 'g3 camera', 'megapixel', 'life', 'picture quality', 'way', 'canon g3 camera', 'megapixel camera'\",\n",
       "  '96'),\n",
       " (\"'camera', 'canon', 'battery', 'g3 camera', 'megapixel', 'life', 'way', 'canon g3 camera', 'megapixel camera'\",\n",
       "  '96'),\n",
       " (\"'camera', 'canon', 'battery', 'g3 camera', 'megapixel', 'picture quality', 'battery life', 'canon g3 camera', 'megapixel camera'\",\n",
       "  '96'),\n",
       " (\"'camera', 'canon', 'battery', 'g3 camera', 'megapixel', 'picture quality', 'battery life', 'way', 'canon g3 camera', 'megapixel camera'\",\n",
       "  '96'),\n",
       " (\"'camera', 'canon', 'battery', 'g3 camera', 'megapixel', 'picture quality', 'canon g3 camera', 'megapixel camera'\",\n",
       "  '96'),\n",
       " (\"'camera', 'canon', 'battery', 'g3 camera', 'megapixel', 'picture quality', 'way', 'canon g3 camera', 'megapixel camera'\",\n",
       "  '96'),\n",
       " (\"'camera', 'canon', 'battery', 'g3 camera', 'megapixel', 'way', 'canon g3 camera', 'megapixel camera'\",\n",
       "  '96'),\n",
       " (\"'camera', 'canon', 'canon g3', 'g3 camera', 'g2', 'megapixel', 'battery life', 'canon g3 camera', 'megapixel camera'\",\n",
       "  '96'),\n",
       " (\"'camera', 'canon', 'canon g3', 'g3 camera', 'g2', 'megapixel', 'battery life', 'way', 'canon g3 camera', 'megapixel camera'\",\n",
       "  '96'),\n",
       " (\"'camera', 'canon', 'canon g3', 'g3 camera', 'g2', 'megapixel', 'canon g3 camera', 'megapixel camera'\",\n",
       "  '96'),\n",
       " (\"'camera', 'canon', 'canon g3', 'g3 camera', 'g2', 'megapixel', 'life', 'battery life', 'canon g3 camera', 'megapixel camera'\",\n",
       "  '96'),\n",
       " (\"'camera', 'canon', 'canon g3', 'g3 camera', 'g2', 'megapixel', 'life', 'battery life', 'way', 'canon g3 camera', 'megapixel camera'\",\n",
       "  '96'),\n",
       " (\"'camera', 'canon', 'canon g3', 'g3 camera', 'g2', 'megapixel', 'life', 'canon g3 camera', 'megapixel camera'\",\n",
       "  '96'),\n",
       " (\"'camera', 'canon', 'canon g3', 'g3 camera', 'g2', 'megapixel', 'life', 'picture quality', 'battery life', 'canon g3 camera', 'megapixel camera'\",\n",
       "  '96'),\n",
       " (\"'camera', 'canon', 'canon g3', 'g3 camera', 'g2', 'megapixel', 'life', 'picture quality', 'battery life', 'way', 'canon g3 camera', 'megapixel camera'\",\n",
       "  '96'),\n",
       " (\"'camera', 'canon', 'canon g3', 'g3 camera', 'g2', 'megapixel', 'life', 'picture quality', 'canon g3 camera', 'megapixel camera'\",\n",
       "  '96'),\n",
       " (\"'camera', 'canon', 'canon g3', 'g3 camera', 'g2', 'megapixel', 'life', 'picture quality', 'way', 'canon g3 camera', 'megapixel camera'\",\n",
       "  '96'),\n",
       " (\"'camera', 'canon', 'canon g3', 'g3 camera', 'g2', 'megapixel', 'life', 'way', 'canon g3 camera', 'megapixel camera'\",\n",
       "  '96'),\n",
       " (\"'camera', 'canon', 'canon g3', 'g3 camera', 'g2', 'megapixel', 'picture quality', 'battery life', 'canon g3 camera', 'megapixel camera'\",\n",
       "  '96'),\n",
       " (\"'camera', 'canon', 'canon g3', 'g3 camera', 'g2', 'megapixel', 'picture quality', 'battery life', 'way', 'canon g3 camera', 'megapixel camera'\",\n",
       "  '96'),\n",
       " (\"'camera', 'canon', 'canon g3', 'g3 camera', 'g2', 'megapixel', 'picture quality', 'canon g3 camera', 'megapixel camera'\",\n",
       "  '96'),\n",
       " (\"'camera', 'canon', 'canon g3', 'g3 camera', 'g2', 'megapixel', 'picture quality', 'way', 'canon g3 camera', 'megapixel camera'\",\n",
       "  '96'),\n",
       " (\"'camera', 'canon', 'canon g3', 'g3 camera', 'g2', 'megapixel', 'way', 'canon g3 camera', 'megapixel camera'\",\n",
       "  '96'),\n",
       " (\"'camera', 'canon', 'canon g3', 'g3 camera', 'megapixel', 'battery life', 'canon g3 camera', 'megapixel camera'\",\n",
       "  '96'),\n",
       " (\"'camera', 'canon', 'canon g3', 'g3 camera', 'megapixel', 'battery life', 'way', 'canon g3 camera', 'megapixel camera'\",\n",
       "  '96'),\n",
       " (\"'camera', 'canon', 'canon g3', 'g3 camera', 'megapixel', 'canon g3 camera', 'megapixel camera'\",\n",
       "  '96'),\n",
       " (\"'camera', 'canon', 'canon g3', 'g3 camera', 'megapixel', 'life', 'battery life', 'canon g3 camera', 'megapixel camera'\",\n",
       "  '96'),\n",
       " (\"'camera', 'canon', 'canon g3', 'g3 camera', 'megapixel', 'life', 'battery life', 'way', 'canon g3 camera', 'megapixel camera'\",\n",
       "  '96'),\n",
       " (\"'camera', 'canon', 'canon g3', 'g3 camera', 'megapixel', 'life', 'canon g3 camera', 'megapixel camera'\",\n",
       "  '96'),\n",
       " (\"'camera', 'canon', 'canon g3', 'g3 camera', 'megapixel', 'life', 'picture quality', 'battery life', 'canon g3 camera', 'megapixel camera'\",\n",
       "  '96'),\n",
       " (\"'camera', 'canon', 'canon g3', 'g3 camera', 'megapixel', 'life', 'picture quality', 'battery life', 'way', 'canon g3 camera', 'megapixel camera'\",\n",
       "  '96'),\n",
       " (\"'camera', 'canon', 'canon g3', 'g3 camera', 'megapixel', 'life', 'picture quality', 'canon g3 camera', 'megapixel camera'\",\n",
       "  '96'),\n",
       " (\"'camera', 'canon', 'canon g3', 'g3 camera', 'megapixel', 'life', 'picture quality', 'way', 'canon g3 camera', 'megapixel camera'\",\n",
       "  '96'),\n",
       " (\"'camera', 'canon', 'canon g3', 'g3 camera', 'megapixel', 'life', 'way', 'canon g3 camera', 'megapixel camera'\",\n",
       "  '96'),\n",
       " (\"'camera', 'canon', 'canon g3', 'g3 camera', 'megapixel', 'picture quality', 'battery life', 'canon g3 camera', 'megapixel camera'\",\n",
       "  '96'),\n",
       " (\"'camera', 'canon', 'canon g3', 'g3 camera', 'megapixel', 'picture quality', 'battery life', 'way', 'canon g3 camera', 'megapixel camera'\",\n",
       "  '96'),\n",
       " (\"'camera', 'canon', 'canon g3', 'g3 camera', 'megapixel', 'picture quality', 'canon g3 camera', 'megapixel camera'\",\n",
       "  '96'),\n",
       " (\"'camera', 'canon', 'canon g3', 'g3 camera', 'megapixel', 'picture quality', 'way', 'canon g3 camera', 'megapixel camera'\",\n",
       "  '96'),\n",
       " (\"'camera', 'canon', 'canon g3', 'g3 camera', 'megapixel', 'way', 'canon g3 camera', 'megapixel camera'\",\n",
       "  '96'),\n",
       " (\"'camera', 'canon', 'g3 camera', 'g2', 'megapixel', 'battery life', 'canon g3 camera', 'megapixel camera'\",\n",
       "  '96'),\n",
       " (\"'camera', 'canon', 'g3 camera', 'g2', 'megapixel', 'battery life', 'way', 'canon g3 camera', 'megapixel camera'\",\n",
       "  '96')]"
      ]
     },
     "execution_count": 49,
     "metadata": {},
     "output_type": "execute_result"
    }
   ],
   "source": [
    "c.most_common(100)"
   ]
  },
  {
   "cell_type": "code",
   "execution_count": 33,
   "metadata": {},
   "outputs": [
    {
     "data": {
      "text/plain": [
       "(\"'battery', 'canon camera', 'canon g3 camera', 'megapixel camera'\", '18')"
      ]
     },
     "execution_count": 33,
     "metadata": {},
     "output_type": "execute_result"
    }
   ],
   "source": [
    "\"['battery', 'canon camera', 'canon g3 camera', 'megapixel camera'] 18\".strip('[').split('] ')[0],\"['battery', 'canon camera', 'canon g3 camera', 'megapixel camera'] 18\".split('] ')[1]"
   ]
  },
  {
   "cell_type": "code",
   "execution_count": null,
   "metadata": {
    "collapsed": true
   },
   "outputs": [],
   "source": []
  }
 ],
 "metadata": {
  "kernelspec": {
   "display_name": "Python 3",
   "language": "python",
   "name": "python3"
  },
  "language_info": {
   "codemirror_mode": {
    "name": "ipython",
    "version": 3
   },
   "file_extension": ".py",
   "mimetype": "text/x-python",
   "name": "python",
   "nbconvert_exporter": "python",
   "pygments_lexer": "ipython3",
   "version": "3.6.1"
  }
 },
 "nbformat": 4,
 "nbformat_minor": 2
}

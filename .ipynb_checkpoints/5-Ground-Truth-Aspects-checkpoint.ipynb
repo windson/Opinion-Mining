{
 "cells": [
  {
   "cell_type": "markdown",
   "metadata": {},
   "source": [
    "Exercises 5 \n",
    "\n",
    "Compute precision, recall and F1 score for the aspects identified obtained step in\n",
    "Exercise 3. Use the tagged dataset to know the ground-truth aspects."
   ]
  },
  {
   "cell_type": "code",
   "execution_count": 1,
   "metadata": {
    "collapsed": true
   },
   "outputs": [],
   "source": [
    "import refrom sklearn.metrics import classification_report\n",
    "\n",
    "  # Example printout:\n",
    "  print(classification_report(Y_test, Y_pred))\n"
   ]
  },
  {
   "cell_type": "code",
   "execution_count": 2,
   "metadata": {
    "collapsed": true
   },
   "outputs": [],
   "source": [
    "def GetUntaggedFreqAspects(inputFile):\n",
    "    untagged=[]\n",
    "    with open('Output\\\\'+inputFile,'r') as inpfile:\n",
    "            for line in inpfile.readlines():\n",
    "                untagged.append(re.findall(r\"['\\\"](.*?)['\\\"]\", line)[0])\n",
    "    return untagged"
   ]
  },
  {
   "cell_type": "code",
   "execution_count": 3,
   "metadata": {
    "collapsed": true
   },
   "outputs": [],
   "source": [
    "def GetTaggedFreqAspects():\n",
    "    tagged=[]\n",
    "    with open('data\\\\CanonG3_tagged.txt','r') as tagTxt:\n",
    "        for line in tagTxt.readlines():\n",
    "            if(('[+' in line) or ('[-' in line)):\n",
    "                words= re.sub('\\[.*?\\]','', line.split('##')[0]).split(',')\n",
    "                for word in words:\n",
    "                    if len(word.strip())!=0:\n",
    "                        tagged.append(word.strip())\n",
    "    return tagged"
   ]
  },
  {
   "cell_type": "code",
   "execution_count": 4,
   "metadata": {
    "collapsed": true
   },
   "outputs": [],
   "source": [
    "def GetTruePositives(tagged, untagged):\n",
    "    tp=0\n",
    "    for tag in tagged:\n",
    "        if tag in untagged:\n",
    "            tp += 1\n",
    "    return tp"
   ]
  },
  {
   "cell_type": "code",
   "execution_count": 5,
   "metadata": {
    "collapsed": true
   },
   "outputs": [],
   "source": [
    "def GetFalsePositives(tagged, untagged):\n",
    "    fp = 0\n",
    "    for tag in untagged:\n",
    "        if tag not in tagged:\n",
    "            fp += 1\n",
    "    return fp"
   ]
  },
  {
   "cell_type": "code",
   "execution_count": 6,
   "metadata": {
    "collapsed": true
   },
   "outputs": [],
   "source": [
    "def GetFalseNegatives(tagged, untagged):\n",
    "    fn = 0\n",
    "    for tag in tagged:\n",
    "        if tag not in untagged:\n",
    "            fn += 1\n",
    "    return fn"
   ]
  },
  {
   "cell_type": "code",
   "execution_count": 7,
   "metadata": {
    "collapsed": true
   },
   "outputs": [],
   "source": [
    "def GetPrecisionRecallAndF1(inpFile):\n",
    "    freq_aspects_tagged = GetTaggedFreqAspects()\n",
    "    freq_aspects_untagged=GetUntaggedFreqAspects(inpFile)\n",
    "    TP=GetTruePositives(freq_aspects_tagged,freq_aspects_untagged)\n",
    "    FP=GetFalsePositives(freq_aspects_tagged,freq_aspects_untagged)\n",
    "    FN=GetFalseNegatives(freq_aspects_tagged,freq_aspects_untagged)\n",
    "    precision=float((TP)/(TP+FP))\n",
    "    recall= float((TP)/(TP+FN))\n",
    "    f1= (2*recall*precision)/(precision+recall)\n",
    "    return precision, recall, f1"
   ]
  },
  {
   "cell_type": "markdown",
   "metadata": {},
   "source": [
    "Compute precision, recall and F1 score For 0.5% Min Sup"
   ]
  },
  {
   "cell_type": "code",
   "execution_count": 8,
   "metadata": {},
   "outputs": [
    {
     "name": "stdout",
     "output_type": "stream",
     "text": [
      "Precision: 54.3424317617866%\n",
      "Recall: 76.84210526315789%\n",
      "F1 Score: 63.66279069767443%\n"
     ]
    }
   ],
   "source": [
    "Precision, Recall, F1=GetPrecisionRecallAndF1('3_All_Frequent_Aspects3_ARM_FP_GROWTH_0_5_percent_support.txt')\n",
    "\n",
    "print('Precision:',str(Precision*100)+'%')\n",
    "print('Recall:',str(Recall*100)+'%')\n",
    "print('F1 Score:',str(F1*100)+'%')"
   ]
  },
  {
   "cell_type": "markdown",
   "metadata": {},
   "source": [
    "Compute precision, recall and F1 score For 1% Min Sup"
   ]
  },
  {
   "cell_type": "code",
   "execution_count": 9,
   "metadata": {},
   "outputs": [
    {
     "name": "stdout",
     "output_type": "stream",
     "text": [
      "Precision: 74.10358565737052%\n",
      "Recall: 65.26315789473685%\n",
      "F1 Score: 69.40298507462687%\n"
     ]
    }
   ],
   "source": [
    "Precision, Recall, F1=GetPrecisionRecallAndF1('3_All_Frequent_Aspects3_ARM_FP_GROWTH_1_percent_support.txt')\n",
    "\n",
    "print('Precision:',str(Precision*100)+'%')\n",
    "print('Recall:',str(Recall*100)+'%')\n",
    "print('F1 Score:',str(F1*100)+'%')"
   ]
  },
  {
   "cell_type": "code",
   "execution_count": null,
   "metadata": {
    "collapsed": true
   },
   "outputs": [],
   "source": []
  }
 ],
 "metadata": {
  "kernelspec": {
   "display_name": "Python [default]",
   "language": "python",
   "name": "python3"
  },
  "language_info": {
   "codemirror_mode": {
    "name": "ipython",
    "version": 3
   },
   "file_extension": ".py",
   "mimetype": "text/x-python",
   "name": "python",
   "nbconvert_exporter": "python",
   "pygments_lexer": "ipython3",
   "version": "3.5.3"
  }
 },
 "nbformat": 4,
 "nbformat_minor": 2
}
